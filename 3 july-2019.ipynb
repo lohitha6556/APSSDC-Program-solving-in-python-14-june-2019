{
 "cells": [
  {
   "cell_type": "code",
   "execution_count": 26,
   "metadata": {},
   "outputs": [
    {
     "name": "stdout",
     "output_type": "stream",
     "text": [
      "A P S S D C\n",
      "Apssdc\n"
     ]
    }
   ],
   "source": [
    "#1. Print given characters as a word with starting character capital form and remaining lower\n",
    "#A P S S D C\n",
    "#Apssdc\n",
    "\n",
    "def chatacters_word():\n",
    "    s = input()\n",
    "    s1=s.replace(\" \",\"\")\n",
    "    s2=s1.swapcase()\n",
    "    s3=s2.capitalize()\n",
    "    print(s3)\n",
    "chatacters_word()\n",
    "\n",
    "\n"
   ]
  },
  {
   "cell_type": "code",
   "execution_count": 27,
   "metadata": {},
   "outputs": [
    {
     "name": "stdout",
     "output_type": "stream",
     "text": [
      "hai hello world\n",
      "hai\n",
      "hello\n",
      "world\n"
     ]
    }
   ],
   "source": [
    "#2. Print the maximum length word of given words\n",
    "#Hai hello world\n",
    "#hello\n",
    "#world\n",
    "\n",
    "def lengthofword():\n",
    "    data = input()\n",
    "    for i in data.split():\n",
    "        print(i)\n",
    "lengthofword()\n",
    "\n",
    "\n",
    " \n"
   ]
  },
  {
   "cell_type": "code",
   "execution_count": 5,
   "metadata": {},
   "outputs": [
    {
     "name": "stdout",
     "output_type": "stream",
     "text": [
      "r\n",
      "ramu\n",
      "ravi\n"
     ]
    }
   ],
   "source": [
    "# Print all the words which starts with the given character, If no words matches with the given condition you should print -1\n",
    "#ramu ravi balu\n",
    "#r\n",
    "#ramu\n",
    "#ravi\n",
    "\n",
    "def allwords():\n",
    "    words = input().split()\n",
    "    c=input()\n",
    "    s=input()\n",
    "    match=0\n",
    "    for word in words:\n",
    "        if word.startswith(c):\n",
    "            print(words)\n",
    "            match+=1\n",
    "            if match==0:\n",
    "                print(-1)\n",
    "allwords()\n",
    "                     \n",
    "    \n",
    "\n"
   ]
  },
  {
   "cell_type": "code",
   "execution_count": 17,
   "metadata": {},
   "outputs": [
    {
     "ename": "SyntaxError",
     "evalue": "EOL while scanning string literal (<ipython-input-17-089bcdc22c72>, line 8)",
     "output_type": "error",
     "traceback": [
      "\u001b[1;36m  File \u001b[1;32m\"<ipython-input-17-089bcdc22c72>\"\u001b[1;36m, line \u001b[1;32m8\u001b[0m\n\u001b[1;33m    ch = ('a','e','i','o'u')\u001b[0m\n\u001b[1;37m                            ^\u001b[0m\n\u001b[1;31mSyntaxError\u001b[0m\u001b[1;31m:\u001b[0m EOL while scanning string literal\n"
     ]
    }
   ],
   "source": [
    "#4. Print all the words which words not ends with vowels(a,e,i,o,u)\n",
    "#ramu ravi balu raju mahesh\n",
    "#mahesh\n",
    "\n",
    "def vowels():\n",
    "    c = input()\n",
    "    s = input()\n",
    "    ch = ('a','e','i','o'u')\n",
    "    for i in range(1,n+1):\n",
    "        for each in range(i,n+1):\n",
    "            if i % each == 0:\n",
    "        words = s.endswith().split\n",
    "         print(each)\n",
    "vowels()\n",
    "                \n",
    "    \n",
    "    \n"
   ]
  },
  {
   "cell_type": "code",
   "execution_count": null,
   "metadata": {},
   "outputs": [],
   "source": []
  }
 ],
 "metadata": {
  "kernelspec": {
   "display_name": "Python 3",
   "language": "python",
   "name": "python3"
  },
  "language_info": {
   "codemirror_mode": {
    "name": "ipython",
    "version": 3
   },
   "file_extension": ".py",
   "mimetype": "text/x-python",
   "name": "python",
   "nbconvert_exporter": "python",
   "pygments_lexer": "ipython3",
   "version": "3.7.3"
  }
 },
 "nbformat": 4,
 "nbformat_minor": 2
}
