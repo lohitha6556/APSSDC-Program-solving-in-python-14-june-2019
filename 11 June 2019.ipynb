{
 "cells": [
  {
   "cell_type": "markdown",
   "metadata": {},
   "source": [
    "# Notebook basics\n",
    "***Bold***\n",
    "* *Italic* <br>\n",
    "* ***IB***\n",
    "* Normal text\n",
    "  * sublist 1\n",
    "  * sublist 2\n",
    "  \n",
    "![Image](jupyter.png)\n",
    "\n",
    "<img src = \"jupyter.png\" style=\"float:left\">\n",
    "I get 10 times more traffic from [Google] [1] than from\n",
    "[Yahoo] [2] or [MSN] [3].\n",
    "\n",
    "  [1]: http://google.com/        \"Google\"\n",
    "  [2]: http://search.yahoo.com/  \"Yahoo Search\"\n",
    "  [3]: http://search.msn.com/    \"MSN Search\"\n",
    "  \n",
    "  \n",
    "  printt(\"Hello Markdown\")\n",
    "\n",
    " \n"
   ]
  },
  {
   "cell_type": "markdown",
   "metadata": {},
   "source": [
    "# phython basics\n",
    "\n",
    "# pthyton version 3.7\n",
    "\n",
    "\n",
    "-Scripting\n",
    "-Object\n"
   ]
  },
  {
   "cell_type": "code",
   "execution_count": 4,
   "metadata": {},
   "outputs": [
    {
     "name": "stdout",
     "output_type": "stream",
     "text": [
      "Good Afternoon   !| |Hello python\n"
     ]
    }
   ],
   "source": [
    "# phython Comments\n",
    "\n",
    "print(\"Good Afternoon \", \" !\", end=\"| |\")# Basic Output\n",
    "print(\"Hello python\")\n",
    "\n",
    "#Good Afternoon"
   ]
  },
  {
   "cell_type": "markdown",
   "metadata": {},
   "source": [
    "### Data types \n",
    "\n"
   ]
  },
  {
   "cell_type": "code",
   "execution_count": null,
   "metadata": {},
   "outputs": [],
   "source": [
    "String\n",
    "int\n",
    "float\n",
    "double\n",
    "boolean\n"
   ]
  },
  {
   "cell_type": "code",
   "execution_count": 28,
   "metadata": {},
   "outputs": [
    {
     "data": {
      "text/plain": [
       "12.0"
      ]
     },
     "execution_count": 28,
     "metadata": {},
     "output_type": "execute_result"
    }
   ],
   "source": [
    "type (a)\n",
    "s1 = \"python\"\n",
    "type(s1)\n",
    "\n",
    "f1 = 12.345\n",
    "type(f1)\n",
    "float(str(int(f1)))"
   ]
  },
  {
   "cell_type": "markdown",
   "metadata": {},
   "source": [
    "### assignment"
   ]
  },
  {
   "cell_type": "code",
   "execution_count": 8,
   "metadata": {},
   "outputs": [
    {
     "name": "stdout",
     "output_type": "stream",
     "text": [
      "123 234 345\n"
     ]
    }
   ],
   "source": [
    "n1 = 123456 # Single variable Assignment\n",
    "\n",
    "\n",
    "n2 = n3 = n4 = n1 # Multi Variable Assignment of the same variable\n",
    "\n",
    "a, b, c = 123, 234,345 # Multi Variable Assignment with different values\n",
    "\n",
    "a\n",
    "b\n",
    "c\n",
    "print(a,b,c)"
   ]
  },
  {
   "cell_type": "markdown",
   "metadata": {},
   "source": [
    "###Arithmetic oPrations\n",
    "\n",
    "+\n",
    "_\n",
    "*\n",
    "/\n",
    "%\n",
    "**"
   ]
  },
  {
   "cell_type": "code",
   "execution_count": 29,
   "metadata": {},
   "outputs": [
    {
     "data": {
      "text/plain": [
       "6130687873308026945890176790042303730066739281"
      ]
     },
     "execution_count": 29,
     "metadata": {},
     "output_type": "execute_result"
    }
   ],
   "source": [
    "n1 % 11\n",
    "\n",
    "n3 = n2 ** 123456\n",
    "\n",
    "\n",
    "type(n3)\n",
    "len(str(n3))\n",
    "\n",
    "atoms = 10 ** 82\n",
    "len(str(atoms))\n",
    "type(str(atoms))\n",
    "\n",
    "122321 ** 9\n",
    "\n"
   ]
  },
  {
   "cell_type": "markdown",
   "metadata": {},
   "source": []
  },
  {
   "cell_type": "markdown",
   "metadata": {},
   "source": [
    "### Conditions\n"
   ]
  },
  {
   "cell_type": "code",
   "execution_count": 33,
   "metadata": {},
   "outputs": [
    {
     "name": "stdout",
     "output_type": "stream",
     "text": [
      "FALSE\n"
     ]
    }
   ],
   "source": [
    "if atoms < 10 ** 9:\n",
    "    print(\"TRUE\")\n",
    "else:\n",
    "    print(\"FALSE\")\n"
   ]
  },
  {
   "cell_type": "code",
   "execution_count": null,
   "metadata": {},
   "outputs": [],
   "source": []
  }
 ],
 "metadata": {
  "kernelspec": {
   "display_name": "Python 3",
   "language": "python",
   "name": "python3"
  },
  "language_info": {
   "codemirror_mode": {
    "name": "ipython",
    "version": 3
   },
   "file_extension": ".py",
   "mimetype": "text/x-python",
   "name": "python",
   "nbconvert_exporter": "python",
   "pygments_lexer": "ipython3",
   "version": "3.7.3"
  }
 },
 "nbformat": 4,
 "nbformat_minor": 2
}
