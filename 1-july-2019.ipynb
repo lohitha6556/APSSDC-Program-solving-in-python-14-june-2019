{
 "cells": [
  {
   "cell_type": "markdown",
   "metadata": {},
   "source": [
    "### funcions:\n",
    ". reusabulity\n",
    ". to perform specific task\n",
    ". passing parameters and return result"
   ]
  },
  {
   "cell_type": "code",
   "execution_count": null,
   "metadata": {},
   "outputs": [],
   "source": [
    "def add(arg1,arg2....arg3):\n",
    "    #function body\n",
    "fun_name(p1,pa2,pa3..)\n"
   ]
  },
  {
   "cell_type": "code",
   "execution_count": 2,
   "metadata": {},
   "outputs": [
    {
     "name": "stdout",
     "output_type": "stream",
     "text": [
      "11\n"
     ]
    }
   ],
   "source": [
    "def add(x,y):\n",
    "    print(x+y)\n",
    "    return\n",
    "add(5,6)"
   ]
  },
  {
   "cell_type": "code",
   "execution_count": 3,
   "metadata": {},
   "outputs": [
    {
     "name": "stdout",
     "output_type": "stream",
     "text": [
      "-1\n"
     ]
    }
   ],
   "source": [
    "#passing parameters and return nothig\n",
    "\n",
    "def add(a,b):\n",
    "    print(a-b)\n",
    "    return\n",
    "add(5,6)"
   ]
  },
  {
   "cell_type": "code",
   "execution_count": 5,
   "metadata": {},
   "outputs": [
    {
     "name": "stdout",
     "output_type": "stream",
     "text": [
      "9\n"
     ]
    }
   ],
   "source": [
    "# passing arguments and return result\n",
    "def add(x,y):\n",
    "    return x+y\n",
    "#print(add(4,5))\n",
    "rs = add(4,5)\n",
    "print(rs)"
   ]
  },
  {
   "cell_type": "code",
   "execution_count": 8,
   "metadata": {},
   "outputs": [
    {
     "name": "stdout",
     "output_type": "stream",
     "text": [
      "9\n"
     ]
    },
    {
     "data": {
      "text/plain": [
       "False"
      ]
     },
     "execution_count": 8,
     "metadata": {},
     "output_type": "execute_result"
    }
   ],
   "source": [
    "n = int(input())\n",
    "def isEven(a):\n",
    "    if a%2==0:\n",
    "        return True\n",
    "    return False\n",
    "isEven(n)\n",
    "            "
   ]
  },
  {
   "cell_type": "code",
   "execution_count": 13,
   "metadata": {},
   "outputs": [
    {
     "name": "stdout",
     "output_type": "stream",
     "text": [
      "3\n"
     ]
    },
    {
     "data": {
      "text/plain": [
       "'NO'"
      ]
     },
     "execution_count": 13,
     "metadata": {},
     "output_type": "execute_result"
    }
   ],
   "source": [
    "def fact(a):\n",
    "    f=1\n",
    "    if isEven(a):\n",
    "        for i in range(1,a+1):\n",
    "            f*=i\n",
    "        return f\n",
    "    return \"NO\"\n",
    "n=int(input())\n",
    "\n",
    "fact(n)\n",
    "\n",
    "    "
   ]
  },
  {
   "cell_type": "code",
   "execution_count": 7,
   "metadata": {},
   "outputs": [
    {
     "name": "stdout",
     "output_type": "stream",
     "text": [
      "4\n",
      "true\n",
      "False\n"
     ]
    }
   ],
   "source": [
    "n = int(input())\n",
    "def isEven(a):\n",
    "    if a%2==0:\n",
    "        print(\"true\")\n",
    "    print(\"False\")\n",
    "isEven(n)"
   ]
  },
  {
   "cell_type": "code",
   "execution_count": 12,
   "metadata": {},
   "outputs": [
    {
     "name": "stdout",
     "output_type": "stream",
     "text": [
      "7\n",
      "true\n"
     ]
    }
   ],
   "source": [
    "n = int(input())\n",
    "def isprime(a):\n",
    "    count=0\n",
    "    for i in range(1,n+1):\n",
    "        if n%i==0:\n",
    "            count+=1\n",
    "    if(count==2):\n",
    "        print(\"true\")\n",
    "    else:\n",
    "        print(\"false\")\n",
    "isprime(n)"
   ]
  },
  {
   "cell_type": "code",
   "execution_count": 5,
   "metadata": {},
   "outputs": [
    {
     "ename": "SyntaxError",
     "evalue": "invalid syntax (<ipython-input-5-4b16b5d65aed>, line 6)",
     "output_type": "error",
     "traceback": [
      "\u001b[1;36m  File \u001b[1;32m\"<ipython-input-5-4b16b5d65aed>\"\u001b[1;36m, line \u001b[1;32m6\u001b[0m\n\u001b[1;33m    if(i%4==0 or i%4!==0):\u001b[0m\n\u001b[1;37m                      ^\u001b[0m\n\u001b[1;31mSyntaxError\u001b[0m\u001b[1;31m:\u001b[0m invalid syntax\n"
     ]
    }
   ],
   "source": [
    "#given leap year print or not\n",
    "n = int(input())\n",
    "def LeapYear(a):\n",
    "    count=0\n",
    "    for i in range(1,n+1):\n",
    "        if(i%4==0 or i%4!==0):\n",
    "            count+=1\n",
    "    if(count==2):\n",
    "        print(\"leapyear \")\n",
    "    else:\n",
    "        print(\"not leap year\")\n",
    "LeapYear(n)\n"
   ]
  },
  {
   "cell_type": "code",
   "execution_count": null,
   "metadata": {},
   "outputs": [],
   "source": [
    "### 5.print count and sum of digits in a given string \n",
    "\n",
    "#### test cases: 2\n",
    "#### 5 ---> 1 5\n",
    "#### 3 5 7 2 3  ---> 5 20\n",
    "\n",
    "def digitsofstring(s):\n",
    "    count=0\n",
    "    sum=0\n",
    "    for i in range(1,s+1):\n",
    "        for each in i:\n",
    "            if i%each==0:\n",
    "                sum = sum+i\n",
    "                count+=1\n",
    "    if(count==2):\n",
    "        print(count)\n",
    "    print(sum)\n",
    "s= int(input())\n",
    "digitsofstring(s)\n",
    "\n",
    "        "
   ]
  },
  {
   "cell_type": "code",
   "execution_count": null,
   "metadata": {},
   "outputs": [],
   "source": []
  }
 ],
 "metadata": {
  "kernelspec": {
   "display_name": "Python 3",
   "language": "python",
   "name": "python3"
  },
  "language_info": {
   "codemirror_mode": {
    "name": "ipython",
    "version": 3
   },
   "file_extension": ".py",
   "mimetype": "text/x-python",
   "name": "python",
   "nbconvert_exporter": "python",
   "pygments_lexer": "ipython3",
   "version": "3.7.3"
  }
 },
 "nbformat": 4,
 "nbformat_minor": 2
}
