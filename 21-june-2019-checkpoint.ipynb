{
 "cells": [
  {
   "cell_type": "code",
   "execution_count": 3,
   "metadata": {},
   "outputs": [
    {
     "ename": "IndentationError",
     "evalue": "expected an indented block (<ipython-input-3-7ca3916eac77>, line 6)",
     "output_type": "error",
     "traceback": [
      "\u001b[1;36m  File \u001b[1;32m\"<ipython-input-3-7ca3916eac77>\"\u001b[1;36m, line \u001b[1;32m6\u001b[0m\n\u001b[1;33m    filename = 'DataFiles/Contacts.txt'\u001b[0m\n\u001b[1;37m           ^\u001b[0m\n\u001b[1;31mIndentationError\u001b[0m\u001b[1;31m:\u001b[0m expected an indented block\n"
     ]
    }
   ],
   "source": [
    "#function to contact to contacts text file\n",
    "from packeges import validators as validator import phonenumbervalidator as pnv, emailvalidator as ev\n",
    "#packeges,validators import                                                    emailvalidator as ev\n",
    "def addContact(name,phone,email):\n",
    "#store data as name,phone,email in the contactfile\n",
    "filename = 'DataFiles/Contacts.txt'\n",
    "if not checkContactExists(name):\n",
    "    if phoneNumberValidator(phone) and emailValidator()\n",
    "with open(filename, 'a')as f:\n",
    "    line = name+','+str(phone)+','+email+'\\n'\n",
    "    f.write(line)\n",
    "print(name, 'added to contacts')\n",
    "else:\n",
    "    print(name,)\n",
    "return\n",
    "\n",
    "addContact(\"name1\",9100737765,\"name_23@gmail.com\")"
   ]
  },
  {
   "cell_type": "code",
   "execution_count": 9,
   "metadata": {},
   "outputs": [
    {
     "ename": "SyntaxError",
     "evalue": "EOL while scanning string literal (<ipython-input-9-038cd7ca4a51>, line 7)",
     "output_type": "error",
     "traceback": [
      "\u001b[1;36m  File \u001b[1;32m\"<ipython-input-9-038cd7ca4a51>\"\u001b[1;36m, line \u001b[1;32m7\u001b[0m\n\u001b[1;33m    pattern = 'name+','\u001b[0m\n\u001b[1;37m                       ^\u001b[0m\n\u001b[1;31mSyntaxError\u001b[0m\u001b[1;31m:\u001b[0m EOL while scanning string literal\n"
     ]
    }
   ],
   "source": [
    "#Function to check if contact already exists\n",
    "import re\n",
    "def CheckContactExists(name):\n",
    "    filename = 'DataFiles/contacts.txt'\n",
    "    if not\n",
    "    with open(filename,'r') as f:\n",
    "        filedata = f.read()\n",
    "        pattern = 'name+','\n",
    "    return re.search(name, filedata)\n",
    "\n",
    "addContact('name2', 12344568, 'name2_34@gmail.com')\n",
    "\n",
    "        "
   ]
  },
  {
   "cell_type": "code",
   "execution_count": null,
   "metadata": {},
   "outputs": [],
   "source": []
  }
 ],
 "metadata": {
  "kernelspec": {
   "display_name": "Python 3",
   "language": "python",
   "name": "python3"
  },
  "language_info": {
   "codemirror_mode": {
    "name": "ipython",
    "version": 3
   },
   "file_extension": ".py",
   "mimetype": "text/x-python",
   "name": "python",
   "nbconvert_exporter": "python",
   "pygments_lexer": "ipython3",
   "version": "3.7.3"
  }
 },
 "nbformat": 4,
 "nbformat_minor": 2
}
