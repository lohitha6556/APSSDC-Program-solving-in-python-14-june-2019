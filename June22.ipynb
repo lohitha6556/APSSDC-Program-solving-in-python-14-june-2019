{
 "cells": [
  {
   "cell_type": "markdown",
   "metadata": {},
   "source": [
    "# Day Objectives:\n",
    "- File Handling\n",
    "    - Basic File Data Processing\n",
    "    - Accessing and modifying file data\n",
    "- Character Count\n",
    "- Line Count\n",
    "- File Size\n",
    "- Word Count\n",
    "- Unique word count"
   ]
  },
  {
   "cell_type": "code",
   "execution_count": null,
   "metadata": {},
   "outputs": [],
   "source": []
  },
  {
   "cell_type": "markdown",
   "metadata": {},
   "source": [
    "### - Read a file - File should exists (ReadMode)\n",
    "### - Write into a file - File should exists (append) or a new file can be created (write)"
   ]
  },
  {
   "cell_type": "code",
   "execution_count": 1,
   "metadata": {},
   "outputs": [
    {
     "name": "stdout",
     "output_type": "stream",
     "text": [
      "IIIT\n",
      "NuzvidIIIT is a good college.IIIT is a good college.\n",
      "IIIT is a good college.\n",
      "IIIT is a good college.\n"
     ]
    }
   ],
   "source": [
    "def ReadFile(filename):\n",
    "    with open(filename , 'r') as f:\n",
    "        filename = f.read()\n",
    "    return filename\n",
    "print(ReadFile('DataFiles\\data.txt'))"
   ]
  },
  {
   "cell_type": "code",
   "execution_count": 6,
   "metadata": {
    "scrolled": true
   },
   "outputs": [
    {
     "name": "stdout",
     "output_type": "stream",
     "text": [
      "105\n"
     ]
    }
   ],
   "source": [
    "def characterCount(filename):\n",
    "    c=0\n",
    "    with open(filename,'r') as f:\n",
    "        for i in f:\n",
    "            c=c+len(i)\n",
    "    print(c)\n",
    "\n",
    "characterCount('DataFiles\\data.txt')"
   ]
  },
  {
   "cell_type": "code",
   "execution_count": 9,
   "metadata": {},
   "outputs": [
    {
     "name": "stdout",
     "output_type": "stream",
     "text": [
      "4\n"
     ]
    }
   ],
   "source": [
    "def LineCount(filename):\n",
    "    c=0\n",
    "    with open(filename, 'r') as f:\n",
    "        for Line in f:\n",
    "            c=c+1\n",
    "    print(c)\n",
    "LineCount('DataFiles\\data.txt')\n",
    "    "
   ]
  },
  {
   "cell_type": "code",
   "execution_count": 26,
   "metadata": {},
   "outputs": [
    {
     "name": "stdout",
     "output_type": "stream",
     "text": [
      "number of words:\n",
      "20\n"
     ]
    }
   ],
   "source": [
    "def wordcount(filename):\n",
    "    wordcount=0\n",
    " \n",
    "    with open(filename, 'r') as f:\n",
    "        for line in f:\n",
    "            words = line.split()\n",
    "            wordcount += len(words)\n",
    "            \n",
    "    print(\"number of words:\")\n",
    "    print(wordcount)\n",
    "wordcount('DataFiles\\data.txt')"
   ]
  },
  {
   "cell_type": "code",
   "execution_count": 22,
   "metadata": {},
   "outputs": [
    {
     "name": "stdout",
     "output_type": "stream",
     "text": [
      "number of words:\n",
      "20\n"
     ]
    }
   ],
   "source": [
    "def wordcount(filename):\n",
    "    wordcount=0\n",
    " \n",
    "    with open(filename, 'r') as f:\n",
    "        for line in f:\n",
    "            words = line.split()\n",
    "            wordcount += len(words)\n",
    "            \n",
    "    print(\"number of words:\")\n",
    "    print(wordcount)\n",
    "wordcount('DataFiles\\data.txt')"
   ]
  },
  {
   "cell_type": "code",
   "execution_count": 19,
   "metadata": {},
   "outputs": [
    {
     "ename": "SyntaxError",
     "evalue": "invalid syntax (<ipython-input-19-552e3b4b21c0>, line 14)",
     "output_type": "error",
     "traceback": [
      "\u001b[1;36m  File \u001b[1;32m\"<ipython-input-19-552e3b4b21c0>\"\u001b[1;36m, line \u001b[1;32m14\u001b[0m\n\u001b[1;33m    else:\u001b[0m\n\u001b[1;37m       ^\u001b[0m\n\u001b[1;31mSyntaxError\u001b[0m\u001b[1;31m:\u001b[0m invalid syntax\n"
     ]
    }
   ],
   "source": [
    "\n",
    "def uniquewordCount(filename):\n",
    "    \n",
    "    \n",
    "    \n",
    "   \n",
    "    "
   ]
  },
  {
   "cell_type": "code",
   "execution_count": 10,
   "metadata": {},
   "outputs": [
    {
     "name": "stdout",
     "output_type": "stream",
     "text": [
      "Enter the no.of records that you want to insert into contacts 2\n",
      "Enter nameaaa\n",
      "Enter mobile8278721836\n",
      "Enter emailaaaa@gmail.com\n",
      "Enter nameashhasdjg\n",
      "Enter mobile7283821763621\n",
      "Enter emailsgadhgsgdhas@gmail.com\n",
      "Data added successfully\n"
     ]
    }
   ],
   "source": [
    "contacts={}\n",
    "def addContact():\n",
    "    n=int(input(\"Enter the no.of records that you want to insert into contacts \"))\n",
    "    for record in range(n):\n",
    "        name=input(\"Enter name\")\n",
    "        mobile=input(\"Enter mobile\")\n",
    "        email=input(\"Enter email\") \n",
    "        contacts[name]=[mobile,email]\n",
    "        with open('DataFiles\\contacts.txt','w') as data:\n",
    "            for user in contacts.items():\n",
    "                data.write(user[0]+\",\"+user[1][0]+\",\"+user[1][1]+\"\\n\")\n",
    "    print(\"Data added successfully\")\n",
    "addContact()"
   ]
  },
  {
   "cell_type": "code",
   "execution_count": null,
   "metadata": {},
   "outputs": [],
   "source": [
    "def modifyContacts(filename):\n",
    "    updated_data = {}\n",
    "    name = input()\n",
    "    with open(filename,'r')as f:\n",
    "        for line in f:\n",
    "            line = line.strip().split(',')\n",
    "            if name in line:\n",
    "                mobile = input('Enter mobile number to obdate: ')\n",
    "                email = input('Enter email to obdate')\n",
    "                line[1] = mobile\n",
    "                line[2] = email\n",
    "                updated_data[line[0]]=[line[1],line[2]]\n",
    "            else:\n",
    "                updated_data[line[0]]=[line[1],line[2]]\n",
    "                continue\n",
    "    with open(filename,'w') as info:\n",
    "        for user in updated_data.items():\n",
    "            info.write[user[0]+','+user[1][0]+\",\"+user[1][1]+\"\\n\")\n",
    "                       \n",
    "filename = input()\n",
    "modifycontacts(filename)\n",
    "                "
   ]
  }
 ],
 "metadata": {
  "kernelspec": {
   "display_name": "Python 3",
   "language": "python",
   "name": "python3"
  },
  "language_info": {
   "codemirror_mode": {
    "name": "ipython",
    "version": 3
   },
   "file_extension": ".py",
   "mimetype": "text/x-python",
   "name": "python",
   "nbconvert_exporter": "python",
   "pygments_lexer": "ipython3",
   "version": "3.7.3"
  }
 },
 "nbformat": 4,
 "nbformat_minor": 2
}
