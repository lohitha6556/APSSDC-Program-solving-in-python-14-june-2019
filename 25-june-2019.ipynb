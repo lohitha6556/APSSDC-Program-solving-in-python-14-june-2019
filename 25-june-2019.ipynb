{
 "cells": [
  {
   "cell_type": "code",
   "execution_count": null,
   "metadata": {},
   "outputs": [],
   "source": [
    "given a string s, consisting of alphabets and digits, find the frequency of each digit in the give string\n",
    "input :\n",
    "    the first line contains  A String num, which is the given number.\n",
    "    contrains:\n",
    "        1<=len(num)<=1000\n",
    "        All the elements of num are made of english alphabets and digits.\n",
    "output format:\n",
    "        print ten space-separated integers in a\n",
    "    from 0 to 9\n",
    "    a11472o5t6"
   ]
  },
  {
   "cell_type": "code",
   "execution_count": 3,
   "metadata": {},
   "outputs": [
    {
     "name": "stdout",
     "output_type": "stream",
     "text": [
      "0 4 1 1 1 1 1 0 0 0 "
     ]
    }
   ],
   "source": [
    "# s = 123abc456def1111\n",
    "# 0 1 1 1 1 1 1 0 0 0-> Frequency \n",
    "# count(1) -> 1 4 3 1 1 1 4 4 4\n",
    "\n",
    "# s = c\n",
    "# 0 0 0 0 0 0 0 0 0 0\n",
    "\n",
    "# s = 1234567890\n",
    "# 1  1 1 1 1 1 1 1 1 1\n",
    "def uniqueData(allnumbers):\n",
    "    unique = []\n",
    "    for n in allnumbers:\n",
    "        if n not in  unique: \n",
    "            unique.append(n)\n",
    "    return unique\n",
    "\n",
    "def digitFrequency1(s):\n",
    "    allnumbers = []\n",
    "    for i in s:\n",
    "        if i.isdigit():\n",
    "            allnumbers.append(i)\n",
    "    unique = uniqueData(allnumbers)\n",
    "    for i in range(0,10):\n",
    "        if str(i) not in unique:\n",
    "            print(0, end=' ')\n",
    "        else:\n",
    "            count = allnumbers.count(str(i))\n",
    "            print(count, end=' ')\n",
    "                                     \n",
    "digitFrequency1('213abc456def111')\n",
    "            \n",
    "        \n",
    "\n",
    "    \n",
    "    "
   ]
  },
  {
   "cell_type": "code",
   "execution_count": 1,
   "metadata": {},
   "outputs": [],
   "source": [
    "def digitFrequency2(s):\n",
    "    for i in range(0, 10):\n",
    "        count = s.count(str(i))"
   ]
  },
  {
   "cell_type": "code",
   "execution_count": 20,
   "metadata": {},
   "outputs": [],
   "source": [
    "# Function to check if two strings\n",
    "# abc  cba-> True\n",
    "# {a:1, b:1, c:1} {c:1 a:1, b:1}\n",
    "# aabbcc ccbbaaa -> False\n",
    "# aabbc aaabbcc\n",
    "# abc\n",
    "# {a:2, b:2, c:2} {a:3, b:2, c:2}\n",
    "\n",
    "\n",
    "def checkAnagrams(s1, s2):\n",
    "    if len(s1) != len(s2):\n",
    "        return False\n",
    "    if sorted(s1) == sorted(s2):\n",
    "        return True\n",
    "    return False\n",
    "\n",
    "def charDeletionsAnagrams(s1, s2):\n",
    "# to collect all uncommon characters\n",
    "    uncommon = []\n",
    "    for i in s1:\n",
    "        if i not in s2:\n",
    "            uncommon.append(i)\n",
    "    for i in s2:\n",
    "        if i not in s1:\n",
    "            uncommon.append(i)\n",
    "    count = len(uncommon)\n",
    "    # freqs1 -> Frequency of common characters in s1 and s2\n",
    "    freqs1 = {}\n",
    "    freqs2 = {}\n",
    "    # Unique charactes in s1 and s2\n",
    "    uniqs1 = []\n",
    "    uniqs2 = []\n",
    "    # freuency of unique charecters in s1\n",
    "    for i in s1:\n",
    "        if i not in uncommon and i not in unique1:\n",
    "            freqs1[i] = s1.count(i)\n",
    "            uniqus1.append(i)\n",
    "    # frequency of unique chatacters in s2\n",
    "    for i in s2:\n",
    "        if i not in uncommon and i not in unique2:\n",
    "            freqs2[i] = s2.count(i)\n",
    "            uniqs2.append(i)\n",
    "    # defference in frequencies for common characters\n",
    "    for key in freqs1.keys():\n",
    "        count += abs(freqs1[key] - freqs2[key])\n",
    "    return count\n",
    "    \n",
    "    charDeletionsAnagram('abc', 'bca')\n",
    "        \n",
    "    "
   ]
  },
  {
   "cell_type": "code",
   "execution_count": null,
   "metadata": {},
   "outputs": [],
   "source": [
    "# {a:4, g:9, i:6, p:213, c:6}\n",
    "#[4,6,6,9,213]\n",
    "# [213, 9, 6, 6,4]\n",
    "#[a,c,g,i,p]\n",
    "#k = 3\n",
    "#li = []\n",
    "# for item in d.items():\n",
    "# for item in d.items():\n",
    "#    if item[1] == 6:\n",
    "#      li.append(items[0])\n",
    "#li = [i, c]\n",
    "\n",
    "def kLargestFrequency(s, k):\n",
    "    # Construct the frequecy dictionary\n",
    "    unique = []\n",
    "    freq = {}\n",
    "    for i in s:\n",
    "        if i not in freq.keys():\n",
    "            freq[i] = s.count(i)\n",
    "    values = sorted(freq.values(), reversed=True)\n",
    "    uniqueValues = set(values)\n",
    "            \n",
    "            \n",
    "\n",
    "\n"
   ]
  }
 ],
 "metadata": {
  "kernelspec": {
   "display_name": "Python 3",
   "language": "python",
   "name": "python3"
  },
  "language_info": {
   "codemirror_mode": {
    "name": "ipython",
    "version": 3
   },
   "file_extension": ".py",
   "mimetype": "text/x-python",
   "name": "python",
   "nbconvert_exporter": "python",
   "pygments_lexer": "ipython3",
   "version": "3.7.3"
  }
 },
 "nbformat": 4,
 "nbformat_minor": 2
}
