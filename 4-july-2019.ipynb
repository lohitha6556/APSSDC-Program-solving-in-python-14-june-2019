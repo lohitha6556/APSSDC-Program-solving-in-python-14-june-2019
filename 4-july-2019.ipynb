{
 "cells": [
  {
   "cell_type": "code",
   "execution_count": 11,
   "metadata": {},
   "outputs": [
    {
     "name": "stdout",
     "output_type": "stream",
     "text": [
      "10\n",
      "2 4 6 8 10 \n",
      "1 3 5 7 9 "
     ]
    }
   ],
   "source": [
    "### 1.Print even and odd numbers up to given range.\n",
    "\n",
    "#### input : 10 \n",
    "#### output:\n",
    "#### even numbers -->  2,4,6,8,10\n",
    "#### odd numbers --> 1,3,5,7,9\n",
    " \n",
    "def even_oddNumbers(n):\n",
    "    for i in range(1,n+1):\n",
    "        if i%2==0:\n",
    "            print(i,end=\" \")\n",
    "    print()\n",
    "    for i in range(1,n+1):\n",
    "        if i%2==1:\n",
    "            print(i,end=\" \")\n",
    "            \n",
    "n = int(input())\n",
    "even_oddNumbers(n)\n"
   ]
  },
  {
   "cell_type": "code",
   "execution_count": 12,
   "metadata": {},
   "outputs": [
    {
     "name": "stdout",
     "output_type": "stream",
     "text": [
      "www.way2sms.com\n",
      "DIGITS 1\n",
      "ALPHABETS 12\n",
      "OTHER 2\n"
     ]
    }
   ],
   "source": [
    "#8. Print the number of digits, alphabets and any other \n",
    "#www.way2sms.com\n",
    "#DIGITS 1\n",
    "#ALPHABETS  12\n",
    "#OTHER 2\n",
    "\n",
    "s = input()\n",
    "c=0\n",
    "c2=0\n",
    "c3=0\n",
    "for ch in s:\n",
    "    if ch.isdigit():\n",
    "        c+=1\n",
    "    elif ch.isalpha():\n",
    "        c2+=1\n",
    "    else:\n",
    "        c3+=1\n",
    "print(\"DIGITS\",c)\n",
    "print(\"ALPHABETS\",c2)\n",
    "print(\"OTHER\",c3)\n",
    "            \n",
    "\n",
    "\n",
    "\n",
    "\n",
    "\n"
   ]
  },
  {
   "cell_type": "code",
   "execution_count": 68,
   "metadata": {},
   "outputs": [
    {
     "name": "stdout",
     "output_type": "stream",
     "text": [
      "5 9\n",
      "False\n",
      "False\n",
      "True\n"
     ]
    }
   ],
   "source": [
    "\n",
    "### 2.print given numbers prime or not.\n",
    "\n",
    "#### input: --> 5 9\n",
    "#### output: -->5  True\n",
    "####                   9   False\n",
    "\n",
    "li = list(map(int,input().split()))\n",
    "for i in li:\n",
    "    count=0\n",
    "    for j in range(1,i):\n",
    "        if i%j==0:\n",
    "            count+=1\n",
    "            if(count==2):\n",
    "                print(\"True\")\n",
    "            else:\n",
    "                print(\"False\")"
   ]
  },
  {
   "cell_type": "code",
   "execution_count": 79,
   "metadata": {},
   "outputs": [
    {
     "name": "stdout",
     "output_type": "stream",
     "text": [
      "az$6\n",
      "1\n",
      "2\n"
     ]
    }
   ],
   "source": [
    "s = input()\n",
    "c=0\n",
    "count=0\n",
    "for i in s:\n",
    "    if i.isdigit():\n",
    "        c+=1\n",
    "    if i.isalpha():\n",
    "        count+=1\n",
    "print(c)\n",
    "print(count)"
   ]
  },
  {
   "cell_type": "code",
   "execution_count": 85,
   "metadata": {},
   "outputs": [
    {
     "name": "stdout",
     "output_type": "stream",
     "text": [
      "3\n",
      "3 4\n",
      "233445\n",
      "233246785\n",
      "[233246785]\n"
     ]
    }
   ],
   "source": [
    "s = int(input())\n",
    "for i in range(s):\n",
    "    li = list(map(int,input().split()))\n",
    "print(li)\n",
    "    \n"
   ]
  },
  {
   "cell_type": "code",
   "execution_count": null,
   "metadata": {},
   "outputs": [],
   "source": [
    "def value(n):\n",
    "    points=[]\n",
    "count=0\n",
    "for i in range(1,n+1):\n",
    "    x=points(map(int,input().split()))\n",
    "    count+=1\n",
    "st = int(input())\n",
    "print(points)\n",
    "value(n)"
   ]
  },
  {
   "cell_type": "code",
   "execution_count": null,
   "metadata": {},
   "outputs": [],
   "source": [
    "st = int(input())\n",
    "s,e=map(int,input().split())\n",
    "if s==1:\n",
    "    print(st[e-1::-1]+st[e:])\n",
    "else:\n",
    "    print(st[:s-1]+st[e-1:s-2:-1]+st[e:])\n",
    "  "
   ]
  },
  {
   "cell_type": "code",
   "execution_count": null,
   "metadata": {},
   "outputs": [],
   "source": []
  }
 ],
 "metadata": {
  "kernelspec": {
   "display_name": "Python 3",
   "language": "python",
   "name": "python3"
  },
  "language_info": {
   "codemirror_mode": {
    "name": "ipython",
    "version": 3
   },
   "file_extension": ".py",
   "mimetype": "text/x-python",
   "name": "python",
   "nbconvert_exporter": "python",
   "pygments_lexer": "ipython3",
   "version": "3.7.3"
  }
 },
 "nbformat": 4,
 "nbformat_minor": 2
}
