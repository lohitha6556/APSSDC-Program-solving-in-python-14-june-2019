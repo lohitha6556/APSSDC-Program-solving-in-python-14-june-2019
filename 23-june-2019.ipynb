{
 "cells": [
  {
   "cell_type": "code",
   "execution_count": 16,
   "metadata": {},
   "outputs": [
    {
     "data": {
      "text/plain": [
       "['IIIT',\n",
       " 'NuzvidIIIT is a good college.IIIT is a good college.',\n",
       " 'IIIT is a good college.',\n",
       " 'IIIT is a good college.']"
      ]
     },
     "execution_count": 16,
     "metadata": {},
     "output_type": "execute_result"
    }
   ],
   "source": [
    "#Function to read a file line a list of lines\n",
    "def readFileIntoList(filepath):\n",
    "    with open(filepath,'r') as f:\n",
    "        filedata = f.read()\n",
    "        lines = filedata.split('\\n')\n",
    "       #lines=[]\n",
    "      # for line in f:\n",
    "           #lines.append(line)\n",
    "    return lines\n",
    "        \n",
    "    \n",
    "readFileIntoList('DataFiles\\data.txt')"
   ]
  },
  {
   "cell_type": "code",
   "execution_count": 21,
   "metadata": {},
   "outputs": [
    {
     "name": "stdout",
     "output_type": "stream",
     "text": [
      "number of words:\n",
      "20\n"
     ]
    }
   ],
   "source": [
    "#Function  to count no of lines in a file\n",
    "def wordcount(filename):\n",
    "    wordcount=0\n",
    " \n",
    "    with open(filename, 'r') as f:\n",
    "        for line in f:\n",
    "            words = line.split()\n",
    "            wordcount += len(words)\n",
    "            \n",
    "    print(\"number of words:\")\n",
    "    print(wordcount)\n",
    "wordcount('DataFiles\\data.txt')"
   ]
  },
  {
   "cell_type": "code",
   "execution_count": 18,
   "metadata": {},
   "outputs": [
    {
     "data": {
      "text/plain": [
       "[1, 2, 3]"
      ]
     },
     "execution_count": 18,
     "metadata": {},
     "output_type": "execute_result"
    }
   ],
   "source": [
    "#Function to get unuque elements in a list\n",
    "\n",
    "#[1,2,3,3,2,1] -> [1,2,3]\n",
    "\n",
    "def uniqueData(li):\n",
    "    # create an empty unique list\n",
    "    unique = []\n",
    "    #for every element in the main list,\n",
    "    #check if it exists in the unique list\n",
    "    #if it dies not exists, add it \n",
    "    \n",
    "    for element in li:\n",
    "        if element not in unique:\n",
    "            unique.append(element)\n",
    "    return unique\n",
    "li = [1,2,3,3,2,1]\n",
    "\n",
    "uniqueData(li)"
   ]
  },
  {
   "cell_type": "code",
   "execution_count": null,
   "metadata": {},
   "outputs": [],
   "source": [
    "#Function to count the number of unique word\n",
    "\n",
    "def countUniqueWord(filepath):\n",
    "    "
   ]
  },
  {
   "cell_type": "code",
   "execution_count": null,
   "metadata": {},
   "outputs": [],
   "source": [
    "#function to print the frequency count of \n",
    "#Frequency Distribution\n",
    "#Data in Line 1\n",
    "#IIIT\n",
    "#NuzvidIIIT is a good college.IIIT is a good college.\n",
    "#IIIT is a good college.\n",
    "#IIIT is a good college.\n",
    "\n",
    "\n"
   ]
  },
  {
   "cell_type": "code",
   "execution_count": null,
   "metadata": {},
   "outputs": [],
   "source": [
    "#contact Application\n",
    "# Find and Replace Application \n",
    "contacts={}\n",
    "def addContact():\n",
    "    n=int(input(\"Enter the no.of records that you want to insert into contacts \"))\n",
    "    for record in range(n):\n",
    "        name=input(\"Enter name\")\n",
    "        mobile=input(\"Enter mobile\")\n",
    "        email=input(\"Enter email\") \n",
    "        contacts[name]=[mobile,email]\n",
    "        with open('DataFiles\\contacts.txt','w') as data:\n",
    "            for user in contacts.items():\n",
    "                data.write(user[0]+\",\"+user[1][0]+\",\"+user[1][1]+\"\\n\")\n",
    "    print(\"Data added successfully\")\n",
    "addContact()"
   ]
  },
  {
   "cell_type": "code",
   "execution_count": null,
   "metadata": {},
   "outputs": [],
   "source": [
    "\n",
    "\n",
    "\n",
    "\n",
    "\n",
    "\n",
    "\n",
    "\n",
    "\n",
    "\n",
    "\n"
   ]
  },
  {
   "cell_type": "code",
   "execution_count": null,
   "metadata": {},
   "outputs": [],
   "source": []
  }
 ],
 "metadata": {
  "kernelspec": {
   "display_name": "Python 3",
   "language": "python",
   "name": "python3"
  }
 },
 "nbformat": 4,
 "nbformat_minor": 2
}
